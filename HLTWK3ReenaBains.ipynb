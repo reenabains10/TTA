{
 "cells": [
  {
   "cell_type": "code",
   "execution_count": null,
   "metadata": {},
   "outputs": [],
   "source": [
    "# 1.How many rows and columns are there in your file?\n",
    "import pandas as pd\n",
    "destdata =pd.read_csv(\"dest_data.csv\")\n",
    "#print(destdata)\n",
    "print(\"How many rows and columns are there in your file?\")\n",
    "destdata.shape"
   ]
  },
  {
   "cell_type": "code",
   "execution_count": null,
   "metadata": {},
   "outputs": [],
   "source": [
    "# 2.Print row 3 8 ( using iloc loc)\n",
    "print(\"Print row 3 8 ( using iloc loc)\")\n",
    "print(destdata.iloc[3:9])"
   ]
  },
  {
   "cell_type": "code",
   "execution_count": null,
   "metadata": {},
   "outputs": [],
   "source": [
    "# 3.Find the mean number of all inclusive hotels across all destinations.\n",
    "print(\"3.Find the mean number of all inclusive hotels across all destinations.\")\n",
    "destdata[\"inclusive\"].mean()"
   ]
  },
  {
   "cell_type": "code",
   "execution_count": null,
   "metadata": {},
   "outputs": [],
   "source": [
    "#4.Find the lowest scoring destination.\n",
    "min =destdata[\"star\"].min()\n",
    "print(\"4.Find the lowest scoring destination.\")\n",
    "print(\"The lowest scoring destination(s) score is: \" + str(min))\n",
    "print(destdata.loc[destdata[\"star\"] == min])"
   ]
  },
  {
   "cell_type": "code",
   "execution_count": null,
   "metadata": {},
   "outputs": [],
   "source": [
    "#5.Find the highest scoring destination.\n",
    "max =destdata[\"score\"].max()\n",
    "print(\"5.Find the highest scoring destination.\")\n",
    "print(\"The highest scoring destination(s) score is: \" + str(max))\n",
    "print(destdata.loc[destdata[\"score\"] == max])"
   ]
  },
  {
   "cell_type": "code",
   "execution_count": null,
   "metadata": {},
   "outputs": [],
   "source": [
    "#6.Find all the destinations where there are more than 9 all inclusive hotels.\n",
    "import pandas as pd\n",
    "destdata = pd.read_csv(\"dest_data.csv\")\n",
    "#inc= destdata[\"inclusive\"] > 9\n",
    "#inc\n",
    "print(\"6.Find all the destinations where there are more than 9 all inclusive hotels.\")\n",
    "#destdata[destdata.inclusive > 9] #can use this or code below\n",
    "myfilter = destdata[\"inclusive\"] > 9\n",
    "high = destdata[myfilter]\n",
    "high\n"
   ]
  },
  {
   "cell_type": "code",
   "execution_count": null,
   "metadata": {},
   "outputs": [],
   "source": [
    "#7.Filter the data by score above 8.\n",
    "import pandas as pd\n",
    "destdata = pd.read_csv(\"dest_data.csv\")\n",
    "print(\"7.Filter the data by score above 8.\")\n",
    "destdata[destdata.score > 8]"
   ]
  },
  {
   "cell_type": "code",
   "execution_count": null,
   "metadata": {},
   "outputs": [],
   "source": [
    "#8.Filter the data score below 2 ( I need to know if these destinations should be removed or there is a problem)\n",
    "import pandas as pd\n",
    "destdata = pd.read_csv(\"dest_data.csv\")\n",
    "print(\"8.Filter the data score below 2.\")\n",
    "destdata[destdata.score < 2]"
   ]
  }
 ],
 "metadata": {
  "interpreter": {
   "hash": "b3fbf601f9fd858d6ec55799e42848d2f472ed5c2c31d08e5262fe02a99f1112"
  },
  "kernelspec": {
   "display_name": "Python 3.9.8 64-bit (windows store)",
   "name": "python3"
  },
  "language_info": {
   "codemirror_mode": {
    "name": "ipython",
    "version": 3
   },
   "file_extension": ".py",
   "mimetype": "text/x-python",
   "name": "python",
   "nbconvert_exporter": "python",
   "pygments_lexer": "ipython3",
   "version": "3.9.8"
  },
  "orig_nbformat": 4
 },
 "nbformat": 4,
 "nbformat_minor": 2
}
