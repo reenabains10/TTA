{
 "cells": [
  {
   "cell_type": "code",
   "execution_count": 321,
   "metadata": {},
   "outputs": [
    {
     "name": "stdout",
     "output_type": "stream",
     "text": [
      "0\n",
      "Hi reena, i'm thinking of a number between 1 and 10, take a guess:\n",
      "Sorry reena, 5 is not the number i was thinking, the correct number is 0!\n"
     ]
    }
   ],
   "source": [
    "#Task 1.1 - Stores a random number (1-10) in a variable \n",
    "import random\n",
    "randomnum = random.randint(0,10)\n",
    "print(randomnum)\n",
    "\n",
    "#Task 1.2/3 -  Asks a user for their name and stores this in a variable.\n",
    "#print(\"Hi, What is your?\")\n",
    "myname = input(\"What is your name?\")\n",
    "\n",
    "#Task 1.3 - Asks a user to guess the number between 1 and 10\n",
    "print(\"Hi \" + myname + \", i'm thinking of a number between 1 and 10, take a guess:\")\n",
    "guess = int(input(\"Take a guess:\"))\n",
    "#print(myname + \", you guessed number \"+ str(guess))\n",
    "\n",
    "#Task 1.4\n",
    "if guess == randomnum:\n",
    "       print(myname + \", You guessed correct, well done!\" )\n",
    "else: print (\"Sorry \" + str(myname) + \", \" + str(guess) + \" is not the number i was thinking, the correct number is \" + str(randomnum) + \"!\")"
   ]
  },
  {
   "cell_type": "code",
   "execution_count": 11,
   "metadata": {},
   "outputs": [
    {
     "name": "stdout",
     "output_type": "stream",
     "text": [
      "You chose number: \n"
     ]
    },
    {
     "ename": "ValueError",
     "evalue": "invalid literal for int() with base 10: ''",
     "output_type": "error",
     "traceback": [
      "\u001b[1;31m---------------------------------------------------------------------------\u001b[0m",
      "\u001b[1;31mValueError\u001b[0m                                Traceback (most recent call last)",
      "\u001b[1;32m~\\AppData\\Local\\Temp/ipykernel_7716/112558572.py\u001b[0m in \u001b[0;36m<module>\u001b[1;34m\u001b[0m\n\u001b[0;32m      3\u001b[0m \u001b[0mnumber\u001b[0m \u001b[1;33m=\u001b[0m \u001b[0minput\u001b[0m\u001b[1;33m(\u001b[0m\u001b[1;34m\"Enter a number between 1 and 100!\"\u001b[0m\u001b[1;33m)\u001b[0m\u001b[1;33m\u001b[0m\u001b[1;33m\u001b[0m\u001b[0m\n\u001b[0;32m      4\u001b[0m \u001b[0mprint\u001b[0m \u001b[1;33m(\u001b[0m\u001b[1;34m\"You chose number: \"\u001b[0m \u001b[1;33m+\u001b[0m \u001b[0mstr\u001b[0m\u001b[1;33m(\u001b[0m\u001b[0mnumber\u001b[0m\u001b[1;33m)\u001b[0m\u001b[1;33m)\u001b[0m\u001b[1;33m\u001b[0m\u001b[1;33m\u001b[0m\u001b[0m\n\u001b[1;32m----> 5\u001b[1;33m \u001b[1;32mif\u001b[0m \u001b[0mint\u001b[0m\u001b[1;33m(\u001b[0m\u001b[0mnumber\u001b[0m\u001b[1;33m)\u001b[0m \u001b[1;32min\u001b[0m \u001b[0mrange\u001b[0m\u001b[1;33m(\u001b[0m\u001b[1;36m1\u001b[0m\u001b[1;33m,\u001b[0m \u001b[1;36m11\u001b[0m\u001b[1;33m)\u001b[0m\u001b[1;33m:\u001b[0m\u001b[1;33m\u001b[0m\u001b[1;33m\u001b[0m\u001b[0m\n\u001b[0m\u001b[0;32m      6\u001b[0m    \u001b[0mprint\u001b[0m \u001b[1;33m(\u001b[0m\u001b[1;34m\"Why did the scarecrow win an award? Because he was outstanding in his field.\"\u001b[0m\u001b[1;33m)\u001b[0m\u001b[1;33m\u001b[0m\u001b[1;33m\u001b[0m\u001b[0m\n\u001b[0;32m      7\u001b[0m \u001b[1;32melif\u001b[0m \u001b[0mint\u001b[0m\u001b[1;33m(\u001b[0m\u001b[0mnumber\u001b[0m\u001b[1;33m)\u001b[0m \u001b[1;32min\u001b[0m \u001b[0mrange\u001b[0m\u001b[1;33m(\u001b[0m\u001b[1;36m11\u001b[0m\u001b[1;33m,\u001b[0m \u001b[1;36m21\u001b[0m\u001b[1;33m)\u001b[0m\u001b[1;33m:\u001b[0m\u001b[1;33m\u001b[0m\u001b[1;33m\u001b[0m\u001b[0m\n",
      "\u001b[1;31mValueError\u001b[0m: invalid literal for int() with base 10: ''"
     ]
    }
   ],
   "source": [
    "#Task 2 Write a program that asks a user for their favourite number between 1 and 100 and then tells them a joke based on the number.\n",
    "#print (\"Enter a number between 1 and 100:\")\n",
    "number = input(\"Enter a number between 1 and 100!\")\n",
    "print (\"You chose number: \" + str(number))\n",
    "if int(number) in range(1, 11):\n",
    "   print (\"Why did the scarecrow win an award? Because he was outstanding in his field.\")\n",
    "elif int(number) in range(11, 21):\n",
    "    print (\"What has a bed that you can’t sleep in? A river.\")\n",
    "elif int(number) in range(21, 31):\n",
    "    print (\"Son: Dad can you explain to me what a solar eclipse is. Dad: No sun.\")\n",
    "elif int(number) in range(31, 41):\n",
    "    print (\"If athletes get athlete’s foot, what do elves get? Mistle-toes.\")\n",
    "elif int(number) in range(41, 51):\n",
    "    print (\"What runs around a yard without actually moving? A fence.\")\n",
    "elif int(number) in range(51, 61):\n",
    "    print (\"Where do sheep go to get their hair cut?  The baa-baa shop.\")\n",
    "elif int(number) in range(61, 77):\n",
    "    print (\"Where do you learn to make banana splits? At sundae school.\")\n",
    "elif int(number) in range(71, 81):\n",
    "    print (\"Why does Humpty Dumpty love autumn?  Because Humpty Dumpty had a great fall.\")\n",
    "elif int(number) in range(81, 91):\n",
    "    print (\"How do trees access the internet? They log in.\")\n",
    "elif int(number) in range(91, 101):\n",
    "    print (\"When is a door not a door? When it is ajar.\")\n",
    "\n",
    "else:\n",
    "    print (\"Your number wasn't in the correct range\")"
   ]
  },
  {
   "cell_type": "code",
   "execution_count": 287,
   "metadata": {},
   "outputs": [
    {
     "name": "stdout",
     "output_type": "stream",
     "text": [
      "Your favourite meal is manchurian as a starter, pizza as a main, ice cream as a dessert, with a glass of water.\n"
     ]
    }
   ],
   "source": [
    "#Task 3 Write a program that allows user to enter their favourite starter, main course, dessert and drink. \n",
    "# Concatenate these and output a message which says – “Your favourite meal is ………with a glass of….\n",
    "starter = input(\"What is your favourite starter?\")\n",
    "main = input(\"What is your favourite main course?\")\n",
    "dessert = input(\"What is your favourite dessert?\")\n",
    "drink = input(\"What is your favourite drink?\")\n",
    "\n",
    "print (\"Your favourite meal is \" + starter + \" as a starter, \" + main + \" as a main, \" + dessert + \" as a dessert, with a glass of \" + drink + \"!\")"
   ]
  },
  {
   "cell_type": "code",
   "execution_count": 249,
   "metadata": {},
   "outputs": [
    {
     "name": "stdout",
     "output_type": "stream",
     "text": [
      "2021 1800.0\n",
      "2022 1620.0\n",
      "2023 1458.0\n",
      "2024 1312.2\n",
      "2025 1180.98\n",
      "2026 1062.882\n",
      "2027 956.5938000000001\n"
     ]
    }
   ],
   "source": [
    "#Task 4 A motorbike costs £2000 and loses 10% of its value every year. Using a loop, print the value of the bike every following year until it falls below £1000.\n",
    "current_value = 2000\n",
    "dis = 0.1\n",
    "year = 2020\n",
    "target = 1000\n",
    "while current_value >= target:\n",
    "    current_value -= (current_value * dis)\n",
    "    year += 1\n",
    "    print(str(year) + \" \" + str(current_value))\n"
   ]
  },
  {
   "cell_type": "code",
   "execution_count": 373,
   "metadata": {},
   "outputs": [
    {
     "name": "stdout",
     "output_type": "stream",
     "text": [
      "For your first number you chose: 10 Now choose a second number:\n",
      "For your second number you chose: 2 Your chosen numbers are: 10 and 2\n",
      "a = add b = minus c = divide d = divide e = power of\n",
      "Multiplication result 20\n"
     ]
    }
   ],
   "source": [
    "# Task 5 Write a program which will ask for two numbers from a user. Then offer a menu to the user giving them a choice of operator: e.g. – Enter “a” if you want to add “b” \n",
    "# #if you want to subtract Include +, -, /, *, ** square (to the power of). Once the user has selected which operator they wish to use, perform the calculation.\n",
    "ok = False\n",
    "while not ok:\n",
    "    onestr = input (\"Choose your first number:\")\n",
    "    try:\n",
    "        num1 = int(onestr)\n",
    "        ok = True\n",
    "        print (\"For your first number you chose: \" + str(num1) + \" Now choose a second number:\")\n",
    "    except ValueError:\n",
    "        print(\"Please enter a number\")\n",
    "\n",
    "ok = False\n",
    "while not ok:\n",
    "    twostr = input (\"Choose your second number:\")\n",
    "    try:\n",
    "        num2 = int(twostr)\n",
    "        ok = True\n",
    "        print (\"For your second number you chose: \" + str(num2) + \" Your chosen numbers are: \"  + str(num1)  + \" and \" + str(num2) )\n",
    "    except ValueError:\n",
    "        print(\"Please enter a number\")\n",
    "\n",
    "#num2 = int(input('Enter second number'))\n",
    "mychoices = print(\"a = add\", \"b = minus\", \"c = divide\", \"d = multiply\", \"e = power of\")\n",
    "choice = input(\"Enter an operation you want me to do from the choices listed:\")\n",
    "\n",
    "def add(num1,num2):\n",
    "    m = num1 + num2\n",
    "    print (\"Addition result\",m)\n",
    "\n",
    "def subtract(num1,num2):\n",
    "    m = num1 - num2\n",
    "    print (\"Subtraction result\",m)\n",
    "\n",
    "def div(num1,num2):\n",
    "    m = num1 / num2\n",
    "    print (\"Division result\",m)\n",
    "\n",
    "def multiplication(num1,num2):\n",
    "    m = num1 * num2\n",
    "    print (\"Multiplication result\",m)\n",
    "\n",
    "def power(num1,num2):\n",
    "    m = num1 ** num2\n",
    "    print (\"power result\",m)\n",
    "\n",
    "if choice == \"a\":\n",
    "    add(num1,num2)\n",
    "elif choice == \"b\":\n",
    "    subtract(num1,num2)    \n",
    "elif choice == \"c\":\n",
    "    div(num1,num2)\n",
    "elif choice == \"d\":\n",
    "    multiplication(num1,num2)\n",
    "elif choice == \"e\":\n",
    "    power(num1,num2)\n",
    "else: print (\"Something went wrong!\")"
   ]
  },
  {
   "cell_type": "code",
   "execution_count": 10,
   "metadata": {},
   "outputs": [
    {
     "name": "stdout",
     "output_type": "stream",
     "text": [
      "your item cost £ 3200.0 .  You have a  20 percentage discount.  The value in  2021 is  3200.0\n",
      "your item cost £ 2560.0 .  You have a  20 percentage discount.  The value in  2022 is  2560.0\n",
      "your item cost £ 2048.0 .  You have a  20 percentage discount.  The value in  2023 is  2048.0\n",
      "your item cost £ 1638.4 .  You have a  20 percentage discount.  The value in  2024 is  1638.4\n",
      "your item cost £ 1310.72 .  You have a  20 percentage discount.  The value in  2025 is  1310.72\n",
      "your item cost £ 1048.576 .  You have a  20 percentage discount.  The value in  2026 is  1048.576\n",
      "your item cost £ 838.8608 .  You have a  20 percentage discount.  The value in  2027 is  838.8608\n"
     ]
    }
   ],
   "source": [
    "#As an extension to the motorbike task that costs £2000 and loses 10% of its value every year. Set up a function that \n",
    "# performs the calculation by passing in parameters. Then using a loop, print the value of the bike every following \n",
    "# year until it falls below £1000.\n",
    "cost = int(input(\"Enter cost of item:\"))\n",
    "discountInput = int(input(\"Enter discount percentage:\"))\n",
    "current_value = cost\n",
    "discount = discountInput / 100\n",
    "year = 2020\n",
    "target = 1000\n",
    "\n",
    "def caculateDiscount(value, discount):\n",
    "    discount_amount = (value * discount)\n",
    "    return discount_amount\n",
    "\n",
    "while current_value >= target:\n",
    "    discount_value = caculateDiscount(current_value, discount)\n",
    "    current_value -= discount_value\n",
    "    year += 1\n",
    "\n",
    "    print(\"your item cost £\", current_value, \".  You have a \", discountInput, \"percentage discount.  The value in \", year, \"is \", str(current_value ))"
   ]
  },
  {
   "cell_type": "code",
   "execution_count": 374,
   "metadata": {},
   "outputs": [
    {
     "name": "stdout",
     "output_type": "stream",
     "text": [
      "+ = add - = minus / = divide * = multiply ** = power of\n",
      "hello, your chosen calculation is:  5 ** 2  the answer is:  25\n"
     ]
    }
   ],
   "source": [
    "# Write a program which will ask for two numbers from a user. Then offer an option menu to the user giving them a choice of maths operators. Once the \n",
    "# user has selected which operator they wish to use, perform the calculation by using a procedure and passing parameters.\n",
    "\n",
    "num1 = int(input(\"Enter your first number choice?\"))\n",
    "num2 = int(input(\"Enter your second number choice?\"))\n",
    "choice = print(\"+ = add\", \"- = minus\", \"/ = divide\", \"* = multiply\", \"** = power of\")\n",
    "mychoice = input(\"Enter maths operation +, -, /, *, **\")\n",
    "\n",
    "def proc_2(inp_num1, inp_num2, inp_op):\n",
    "    num1 = inp_num1\n",
    "    num2 = inp_num2\n",
    "    mychoice = inp_op\n",
    "    \n",
    "    if inp_op == \"+\":\n",
    "        print(\"hello, your chosen calculation is: \", num1, mychoice , num2, \", the answer is: \", (num1 + num2))\n",
    "    elif inp_op == \"-\":\n",
    "        print(\"hello, your chosen calculation is: \", num1, mychoice , num2, \", the answer is: \", (num1 - num2))\n",
    "    elif inp_op == \"/\":\n",
    "        print(\"hello, your chosen calculation is: \", num1, mychoice , num2, \", the answer is: \", (num1 / num2))\n",
    "    elif inp_op == \"*\":\n",
    "        print(\"hello, your chosen calculation is: \", num1, mychoice , num2, \", the answer is: \", (num1 * num2))\n",
    "    elif inp_op == \"**\":\n",
    "        print(\"hello, your chosen calculation is: \", num1, mychoice , num2, \", the answer is: \", (num1 ** num2))\n",
    "    else: print(\"Something went wrong!\")\n",
    "\n",
    "proc_2(num1, num2, mychoice)"
   ]
  },
  {
   "cell_type": "code",
   "execution_count": 8,
   "metadata": {},
   "outputs": [
    {
     "name": "stdout",
     "output_type": "stream",
     "text": [
      "Do you want to apply for a job?\n",
      "You chose yes!  What job do you want?\n",
      "You want a new job as an analyst!\n"
     ]
    }
   ],
   "source": [
    "#Task Create your own Flow Diagram, a subject of your own choice, Example: Fast food order and convert it into code.\n",
    "print(\"Do you want to apply for a job?\")\n",
    "answer = input(\"Do you want to apply for a job? Yes or No?\")\n",
    "\n",
    "answer1 = answer.lower()\n",
    "\n",
    "\n",
    "if answer1 == \"no\":\n",
    "    print(\"You chose \" + answer1 + \"! no further action required!\")\n",
    "if answer1 == \"yes\":\n",
    "    print(\"You chose \" + answer1 + \"!  What job do you want?\")\n",
    "    job = input(\"What job do you want?\")\n",
    "    print(\"You want a new job as an \" + job + \"!\")\n",
    "else: \"Please enter yes or no!\""
   ]
  }
 ],
 "metadata": {
  "interpreter": {
   "hash": "0b6ce98c3096834a7a501856e3303731ddbe0942f37d88665ab51c442e15a354"
  },
  "kernelspec": {
   "display_name": "Python 3.10.0 64-bit",
   "name": "python3"
  },
  "language_info": {
   "codemirror_mode": {
    "name": "ipython",
    "version": 3
   },
   "file_extension": ".py",
   "mimetype": "text/x-python",
   "name": "python",
   "nbconvert_exporter": "python",
   "pygments_lexer": "ipython3",
   "version": "3.10.0"
  },
  "orig_nbformat": 4
 },
 "nbformat": 4,
 "nbformat_minor": 2
}
