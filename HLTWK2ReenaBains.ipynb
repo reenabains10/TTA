{
 "cells": [
  {
   "cell_type": "code",
   "execution_count": null,
   "metadata": {},
   "outputs": [],
   "source": [
    "#Task 1 Write a program that allows you to enter 4 numbers and stores them in a file called “Numbers” • 3 • 45 • 83 • 21\n",
    "#Have a go at ‘w’ ‘r’ ‘a’\n",
    "#Task 1 - write\n",
    "print(\"Enter 4 numbers\")\n",
    "num1 = int(input(\"Enter your first number\"))\n",
    "num2 = int(input(\"Enter your second number\"))\n",
    "num3 = int(input(\"Enter your third number\"))\n",
    "num4 = int(input(\"Enter your fourth number\"))\n",
    "numbers = num1,num2,num3,num4\n",
    "print(numbers)\n",
    "my_file = open(\"numbers.txt\", \"w\")\n",
    "for i in (numbers):\n",
    "    my_file.write(str(i))\n",
    "    my_file.write(\"\\n\")\n",
    "my_file.close()\n"
   ]
  },
  {
   "cell_type": "code",
   "execution_count": null,
   "metadata": {},
   "outputs": [],
   "source": [
    "#Task 1 - read\n",
    "with open (\"numbers.txt\", \"r\") as myfile:\n",
    "    data = myfile.read().replace (\"\\n\", \" test,\")\n",
    "my_file.close()\n",
    "print(data)"
   ]
  },
  {
   "cell_type": "code",
   "execution_count": null,
   "metadata": {},
   "outputs": [],
   "source": [
    "#Task 1 - append\n",
    "file = open(\"numbers.txt\", \"a\")\n",
    "file.write(\"ooops!\")\n",
    "file.close()"
   ]
  },
  {
   "cell_type": "code",
   "execution_count": null,
   "metadata": {},
   "outputs": [],
   "source": [
    "#Task 2 Write a program to ask a student for their percentage mark and convert this to a grade.\n",
    "\n",
    "ok = False\n",
    "while not ok:\n",
    "    #print(\"Enter your percentage score\")\n",
    "    per = int(input(\"Enter your first percentage\"))\n",
    "    if per <0 or per > 100:\n",
    "        print(\"Please enter a valid percentage\")\n",
    "    else: \n",
    "        try:\n",
    "            num1 = per\n",
    "            ok = True\n",
    "            print(\"you got \" + str(per) + \"%\")\n",
    "        except ValueError:\n",
    "            print(\"Please enter valid percentage\")\n",
    " \n",
    "if per >= 90 and per <= 100:\n",
    "    print(\"Congratulations you got an A\")\n",
    "elif per >= 80 and per <= 89:\n",
    "    print(\"Well Done! You got an B\")\n",
    "elif per >= 70 and per <= 79:\n",
    "    print(\"Good job you got an C\")\n",
    "elif per >= 60 and per <= 69:\n",
    "    print(\"You got an D\")\n",
    "elif per >= 50 and per <= 59:\n",
    "    print(\"You got an E\")\n",
    "else:\n",
    "    print(\"You got an F\")\n",
    "\n"
   ]
  },
  {
   "cell_type": "code",
   "execution_count": null,
   "metadata": {},
   "outputs": [],
   "source": [
    "#Task 2 Extension - The conversion will be done in a function called mark_grade\n",
    "ok = False\n",
    "while not ok:\n",
    "    #print(\"Enter your percentage score\")\n",
    "    per = int(input(\"Enter your percentage\"))\n",
    "    if per <0 or per > 100:\n",
    "        print(\"Please enter a valid percentage\")\n",
    "    else: \n",
    "        try:\n",
    "            num1 = per\n",
    "            ok = True\n",
    "           # print(\"you got \" + str(per) + \"%\")\n",
    "        except ValueError:\n",
    "            print(\"Please enter valid percentage\")\n",
    "\n",
    "ok = False\n",
    "while not ok:\n",
    "    #print(\"Enter your percentage score\")\n",
    "    target = int(input(\"Enter your target percentage\"))\n",
    "    if per <0 or per > 100:\n",
    "        print(\"Please enter a valid percentage\")\n",
    "    else: \n",
    "        try:\n",
    "            num2 = per\n",
    "            ok = True\n",
    "           # print(\"you got \" + str(per) + \"%\")\n",
    "        except ValueError:\n",
    "            print(\"Please enter a valid target percentage\")\n",
    "\n",
    "def grade(per):\n",
    "    if (per >= 90 and per <= 100):\n",
    "        return \"Congratulations you got an A\"\n",
    "    elif (per >= 80 and per <= 89):\n",
    "        return \"Well Done! You got an B\"\n",
    "    elif (per >= 70 and per <= 79):\n",
    "        return \"Good job you got an C\"\n",
    "    elif (per >= 60 and per <= 69):\n",
    "        return \"You got an D\"\n",
    "    elif (per >= 50 and per <= 59):\n",
    "        return \"You got an E\"\n",
    "    else:\n",
    "        return \"You got an F\"\n",
    "\n",
    "\n",
    "print(grade(per))\n",
    "#print(target)\n",
    "\n",
    "#If their target grade > exam grade display a suitable message\n",
    "if target > per:\n",
    "    print(\"Sorry, you got \" + str(per) + \"%, you didnt meet your target of \" + str(target) + \"%!\")\n",
    "#If their target grade = exam grade display a suitable message\n",
    "elif target == per:\n",
    "    print(\"You met your target of \" + str(target) + \"%!\" )\n",
    "#If their target grade < exam grade display a suitable message\n",
    "elif target < per:\n",
    "    print(\"Well done you exceeded your target of \" + str(target) + \"% well done, you got \" + str(per) + \"%!\")\n",
    "else: print(\"Something went wrong!\")"
   ]
  },
  {
   "cell_type": "code",
   "execution_count": null,
   "metadata": {},
   "outputs": [],
   "source": [
    "#1. Create a 1D array of numbers from 0 to 9\n",
    "import numpy as np\n",
    "array = np.arange(10)\n",
    "print(\"1.Create a 1D array of numbers from 0 to 9\")\n",
    "print (array)"
   ]
  },
  {
   "cell_type": "code",
   "execution_count": null,
   "metadata": {},
   "outputs": [],
   "source": [
    "#2. Create a 3×3 NumPy array of all Boolean value Trues\n",
    "import numpy as np\n",
    "bool_arr = np.ones((3,3), dtype=bool)\n",
    "print(\"2.Create a 3×3 NumPy array of all Boolean value Trues\")\n",
    "print(bool_arr)"
   ]
  },
  {
   "cell_type": "code",
   "execution_count": null,
   "metadata": {},
   "outputs": [],
   "source": [
    "#3. Extract all odd numbers from array of 1-10\n",
    "import numpy as np\n",
    "array = np.arange(10)    # dummy array\n",
    "result = []    # a seperate list for storing odd numbers\n",
    "for i in array:\n",
    " if i % 2 != 0:\n",
    "   result.append(i)\n",
    "print(\"3. Extract all odd numbers from array of 1-10\")\n",
    "print(np.array(result)) # convert list to array"
   ]
  },
  {
   "cell_type": "code",
   "execution_count": null,
   "metadata": {},
   "outputs": [],
   "source": [
    "#4. Replace all odd numbers in an array of 1-10 with the value -1\n",
    "import numpy as np \n",
    "data=np.arange(11,dtype=int) \n",
    "for i in range(len(data)): \n",
    "    if(i % 2 == 1): \n",
    "        data[i]=-1 \n",
    "print(\"4. Replace all odd numbers in an array of 1-10 with the value -1\")\n",
    "print(data) "
   ]
  },
  {
   "cell_type": "code",
   "execution_count": null,
   "metadata": {},
   "outputs": [],
   "source": [
    "#5. Convert a 1D array to a 2D array with 2 rows\n",
    "import numpy as np\n",
    "array = np.arange(4)\n",
    "print(\"5. Convert a 1D array to a 2D array with 2 rows\")\n",
    "print(\"1D array:\")\n",
    "print(array)\n",
    "arr2d = np.reshape(array, (2, 2))\n",
    "print(\"2D array:\")\n",
    "print(arr2d)"
   ]
  },
  {
   "cell_type": "code",
   "execution_count": null,
   "metadata": {},
   "outputs": [],
   "source": [
    "#6. Create two arrays a and b, stack these two arrays vertically use the np.dot and np.sum to calculate totals\n",
    "import numpy as np\n",
    "array1 = np.arange(1,5)\n",
    "array2 = np.arange(11,15)\n",
    "print(\"6. Create two arrays a and b, stack these two arrays vertically use the np.dot and np.sum to calculate totals\")\n",
    "print(\"array 1: \" + str(array1))\n",
    "print(\"array 2: \" + str(array2))\n",
    "array = np.concatenate((array1, array2))\n",
    "print(\"array 1 and 2 concatenated: \" + str(array))\n",
    "\n",
    "a = array1.reshape (2,2) \n",
    "b = array2.reshape (2,2) \n",
    "c = np.dot(a, b)\n",
    "d = np.sum(c,axis = 0)\n",
    "print(\"reshape array 1 as 2x2: \" + str(a))\n",
    "print(\"reshape array 2 as 2x2: \" + str(b))\n",
    "print(\"np.dot: \" + str(c))\n",
    "print(\"np.sum: \" + str(d))\n"
   ]
  },
  {
   "cell_type": "code",
   "execution_count": null,
   "metadata": {},
   "outputs": [],
   "source": [
    "#1. Create the following pattern without hardcoding. Use only NumPy functions.\n",
    "import numpy as np\n",
    "\n",
    "x =np.repeat(a = [1,2,3], repeats = 3)\n",
    "y=np.tile( [1,2,3] ,3)\n",
    "z= np.hstack((x,y))\n",
    "#b=np.tile( [1,2,3] , 3 )\n",
    "#c = np.concatenate((a,b))\n",
    "#a=np.repeat(a = [1,2,3], repeats = 3)\n",
    "#print(a,b)\n",
    "print(\"1. Create the following pattern without hardcoding. Use only NumPy functions.\")\n",
    "print(z)\n"
   ]
  },
  {
   "cell_type": "code",
   "execution_count": null,
   "metadata": {},
   "outputs": [],
   "source": [
    "#2. In two arrays a ( 1,2,3,4,5) and b ( 4,5,6,7,8,9) – remove all repeating items present in array b\n",
    "print(\"2. In two arrays a ( 1,2,3,4,5) and b ( 4,5,6,7,8,9) – remove all repeating items present in array b\")\n",
    "import numpy as np\n",
    "arraya  = np.array(    [1,2,3,4,5],    dtype=object,)\n",
    "arrayb = np.array(    [4,5,6,7,8,9],    dtype=object,)\n",
    "result = np.setdiff1d(arrayb, arraya)\n",
    "print(\"Array b without repeating numbers from Array a: \" + str(result))\n",
    "\n"
   ]
  },
  {
   "cell_type": "code",
   "execution_count": null,
   "metadata": {},
   "outputs": [],
   "source": [
    "#3. Get all items between 3 and 7 from a and b and sum themtogether\n",
    "print(\"3. Get all items between 3 and 7 from a and b and sum them together\")\n",
    "\n",
    "arraya  = np.array(    [1,2,3,4,5],    dtype=object,)\n",
    "arrayb = np.array(    [4,5,6,7,8,9],    dtype=object,)\n",
    "array= np.hstack((arraya,arrayb))\n",
    "low = 3\n",
    "high = 7\n",
    "#mysum=0\n",
    "print(array)\n",
    "myarray = [i for i in array if i >= low and i <= high]\n",
    "#if(array >= low and array <=high):\n",
    " #   mysum = (sum(array))\n",
    "  #  print(mysum)\n",
    "#else: print(\"error\")\n",
    "print (myarray)\n",
    "print(np.sum(myarray))"
   ]
  }
 ],
 "metadata": {
  "interpreter": {
   "hash": "0b6ce98c3096834a7a501856e3303731ddbe0942f37d88665ab51c442e15a354"
  },
  "kernelspec": {
   "display_name": "Python 3.10.0 64-bit",
   "name": "python3"
  },
  "language_info": {
   "codemirror_mode": {
    "name": "ipython",
    "version": 3
   },
   "file_extension": ".py",
   "mimetype": "text/x-python",
   "name": "python",
   "nbconvert_exporter": "python",
   "pygments_lexer": "ipython3",
   "version": "3.10.0"
  },
  "orig_nbformat": 4
 },
 "nbformat": 4,
 "nbformat_minor": 2
}
